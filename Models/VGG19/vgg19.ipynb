{
  "cells": [
    {
      "cell_type": "code",
      "execution_count": 2,
      "metadata": {
        "colab": {
          "base_uri": "https://localhost:8080/"
        },
        "id": "Mcde9_8iKVIc",
        "outputId": "990acb10-1c9b-43b7-fde7-db27971ccb36"
      },
      "outputs": [
        {
          "output_type": "stream",
          "name": "stdout",
          "text": [
            "Mounted at /content/drive\n"
          ]
        }
      ],
      "source": [
        "from google.colab import drive\n",
        "drive.mount('/content/drive')"
      ]
    },
    {
      "cell_type": "code",
      "execution_count": null,
      "metadata": {
        "id": "IVn4XtqhL6TF"
      },
      "outputs": [],
      "source": [
        "!pip install -q keras"
      ]
    },
    {
      "cell_type": "code",
      "execution_count": null,
      "metadata": {
        "colab": {
          "base_uri": "https://localhost:8080/"
        },
        "id": "7cODomVbE_Uy",
        "outputId": "c65a3eca-9de6-4708-9ed2-77bb1626772b"
      },
      "outputs": [
        {
          "name": "stdout",
          "output_type": "stream",
          "text": [
            "Requirement already satisfied: pyyaml in /usr/local/lib/python3.10/dist-packages (6.0.1)\n",
            "Requirement already satisfied: h5py in /usr/local/lib/python3.10/dist-packages (3.9.0)\n",
            "Requirement already satisfied: numpy>=1.17.3 in /usr/local/lib/python3.10/dist-packages (from h5py) (1.23.5)\n"
          ]
        }
      ],
      "source": [
        "pip install pyyaml h5py  # Required to save models in HDF5 format"
      ]
    },
    {
      "cell_type": "code",
      "execution_count": 3,
      "metadata": {
        "id": "_zOm0pwdLiW5"
      },
      "outputs": [],
      "source": [
        "import os\n",
        "import tensorflow as tf\n",
        "from tensorflow import keras\n",
        "from keras.layers import Dense,Flatten\n",
        "from keras.models import Model, Sequential,load_model\n",
        "from keras.preprocessing import image\n",
        "from keras.preprocessing.image import ImageDataGenerator\n",
        "from keras.applications import VGG19\n",
        "from keras.callbacks import ModelCheckpoint\n",
        "import pandas as pd\n",
        "import numpy as np\n",
        "import matplotlib.pyplot as plt\n",
        "from glob import glob"
      ]
    },
    {
      "cell_type": "code",
      "execution_count": 4,
      "metadata": {
        "id": "AE4gtE29MCU0"
      },
      "outputs": [],
      "source": [
        "train_datagen=ImageDataGenerator(rescale=1./255,\n",
        "                                 horizontal_flip=True,shear_range=.2,rotation_range=.2)\n",
        "test_datagen=ImageDataGenerator(rescale=1./255)\n"
      ]
    },
    {
      "cell_type": "code",
      "execution_count": 5,
      "metadata": {
        "colab": {
          "base_uri": "https://localhost:8080/"
        },
        "id": "RgwRQ133MaDQ",
        "outputId": "7efc3f25-e062-44e8-dcf0-88b66d1dd008"
      },
      "outputs": [
        {
          "output_type": "stream",
          "name": "stdout",
          "text": [
            "Found 16926 images belonging to 4 classes.\n",
            "Found 1000 images belonging to 4 classes.\n"
          ]
        }
      ],
      "source": [
        "training_set=train_datagen.flow_from_directory(\"/content/drive/MyDrive/train\",\n",
        "                                               target_size=(224,224),class_mode=\"categorical\",batch_size=128,shuffle=True)\n",
        "test_set=test_datagen.flow_from_directory(\"/content/drive/MyDrive/test\",\n",
        "                                          target_size=(224,224),batch_size=128,class_mode=\"categorical\",shuffle=True)"
      ]
    },
    {
      "cell_type": "code",
      "execution_count": 6,
      "metadata": {
        "colab": {
          "base_uri": "https://localhost:8080/"
        },
        "id": "JnqQ6z2QN4B_",
        "outputId": "37c70dd8-f20e-463a-8dfc-8fac3dbc09cf"
      },
      "outputs": [
        {
          "output_type": "stream",
          "name": "stdout",
          "text": [
            "Downloading data from https://storage.googleapis.com/tensorflow/keras-applications/vgg19/vgg19_weights_tf_dim_ordering_tf_kernels_notop.h5\n",
            "80134624/80134624 [==============================] - 0s 0us/step\n"
          ]
        }
      ],
      "source": [
        "vgg19=VGG19(include_top=False,weights=\"imagenet\",input_shape=[224,224,3])\n"
      ]
    },
    {
      "cell_type": "code",
      "execution_count": 7,
      "metadata": {
        "id": "xLd6pmujN_lH"
      },
      "outputs": [],
      "source": [
        "for layer in vgg19.layers:\n",
        "  layer.trainable=False"
      ]
    },
    {
      "cell_type": "code",
      "execution_count": 8,
      "metadata": {
        "colab": {
          "base_uri": "https://localhost:8080/"
        },
        "id": "UpY_r7pyOFbP",
        "outputId": "06d55e2f-87c2-4a9f-c460-1197866b5768"
      },
      "outputs": [
        {
          "output_type": "execute_result",
          "data": {
            "text/plain": [
              "['/content/drive/MyDrive/train/CNV',\n",
              " '/content/drive/MyDrive/train/DME',\n",
              " '/content/drive/MyDrive/train/DRUSEN',\n",
              " '/content/drive/MyDrive/train/NORMAL']"
            ]
          },
          "metadata": {},
          "execution_count": 8
        }
      ],
      "source": [
        "folder=glob(\"/content/drive/MyDrive/train/*\")\n",
        "folder"
      ]
    },
    {
      "cell_type": "code",
      "execution_count": 9,
      "metadata": {
        "id": "yGn6NvT2OLps"
      },
      "outputs": [],
      "source": [
        "x=Flatten()(vgg19.output)\n",
        "pred_vgg19=Dense(units=len(folder),activation=\"softmax\")(x)\n",
        "vgg19_model=Model(inputs=vgg19.input,outputs=pred_vgg19)\n"
      ]
    },
    {
      "cell_type": "code",
      "execution_count": 10,
      "metadata": {
        "id": "w3QdBU6OOP3L"
      },
      "outputs": [],
      "source": [
        "vgg19_model.compile(optimizer=\"adam\",loss=\"categorical_crossentropy\",metrics=[\"accuracy\"])"
      ]
    },
    {
      "cell_type": "code",
      "execution_count": 11,
      "metadata": {
        "id": "k_o4hl2HukdN"
      },
      "outputs": [],
      "source": [
        "checkpoint_callback = ModelCheckpoint('model_checkpoint_epoch_{epoch:02d}.h5',\n",
        "                                       save_weights_only=True)"
      ]
    },
    {
      "cell_type": "code",
      "execution_count": 12,
      "metadata": {
        "colab": {
          "base_uri": "https://localhost:8080/"
        },
        "id": "ovP9iYKfOU9z",
        "outputId": "ae6eec18-174c-44df-eee0-fe687d3f3799"
      },
      "outputs": [
        {
          "output_type": "stream",
          "name": "stdout",
          "text": [
            "Model: \"model\"\n",
            "_________________________________________________________________\n",
            " Layer (type)                Output Shape              Param #   \n",
            "=================================================================\n",
            " input_1 (InputLayer)        [(None, 224, 224, 3)]     0         \n",
            "                                                                 \n",
            " block1_conv1 (Conv2D)       (None, 224, 224, 64)      1792      \n",
            "                                                                 \n",
            " block1_conv2 (Conv2D)       (None, 224, 224, 64)      36928     \n",
            "                                                                 \n",
            " block1_pool (MaxPooling2D)  (None, 112, 112, 64)      0         \n",
            "                                                                 \n",
            " block2_conv1 (Conv2D)       (None, 112, 112, 128)     73856     \n",
            "                                                                 \n",
            " block2_conv2 (Conv2D)       (None, 112, 112, 128)     147584    \n",
            "                                                                 \n",
            " block2_pool (MaxPooling2D)  (None, 56, 56, 128)       0         \n",
            "                                                                 \n",
            " block3_conv1 (Conv2D)       (None, 56, 56, 256)       295168    \n",
            "                                                                 \n",
            " block3_conv2 (Conv2D)       (None, 56, 56, 256)       590080    \n",
            "                                                                 \n",
            " block3_conv3 (Conv2D)       (None, 56, 56, 256)       590080    \n",
            "                                                                 \n",
            " block3_conv4 (Conv2D)       (None, 56, 56, 256)       590080    \n",
            "                                                                 \n",
            " block3_pool (MaxPooling2D)  (None, 28, 28, 256)       0         \n",
            "                                                                 \n",
            " block4_conv1 (Conv2D)       (None, 28, 28, 512)       1180160   \n",
            "                                                                 \n",
            " block4_conv2 (Conv2D)       (None, 28, 28, 512)       2359808   \n",
            "                                                                 \n",
            " block4_conv3 (Conv2D)       (None, 28, 28, 512)       2359808   \n",
            "                                                                 \n",
            " block4_conv4 (Conv2D)       (None, 28, 28, 512)       2359808   \n",
            "                                                                 \n",
            " block4_pool (MaxPooling2D)  (None, 14, 14, 512)       0         \n",
            "                                                                 \n",
            " block5_conv1 (Conv2D)       (None, 14, 14, 512)       2359808   \n",
            "                                                                 \n",
            " block5_conv2 (Conv2D)       (None, 14, 14, 512)       2359808   \n",
            "                                                                 \n",
            " block5_conv3 (Conv2D)       (None, 14, 14, 512)       2359808   \n",
            "                                                                 \n",
            " block5_conv4 (Conv2D)       (None, 14, 14, 512)       2359808   \n",
            "                                                                 \n",
            " block5_pool (MaxPooling2D)  (None, 7, 7, 512)         0         \n",
            "                                                                 \n",
            " flatten (Flatten)           (None, 25088)             0         \n",
            "                                                                 \n",
            " dense (Dense)               (None, 4)                 100356    \n",
            "                                                                 \n",
            "=================================================================\n",
            "Total params: 20124740 (76.77 MB)\n",
            "Trainable params: 100356 (392.02 KB)\n",
            "Non-trainable params: 20024384 (76.39 MB)\n",
            "_________________________________________________________________\n"
          ]
        }
      ],
      "source": [
        "vgg19_model.summary()"
      ]
    },
    {
      "cell_type": "code",
      "execution_count": null,
      "metadata": {
        "id": "gXBMc43tvASZ"
      },
      "outputs": [],
      "source": [
        "#checkpoint_path = \"training_1/cp.ckpt\"\n",
        "#checkpoint_dir = os.path.dirname(checkpoint_path)\n",
        "\n",
        "# Create a callback that saves the model's weights\n",
        "#cp_callback = tf.keras.callbacks.ModelCheckpoint(filepath=checkpoint_path,\n",
        "                                                 #save_weights_only=True,\n",
        "                                                 #verbose=1)\n"
      ]
    },
    {
      "cell_type": "code",
      "execution_count": null,
      "metadata": {
        "colab": {
          "base_uri": "https://localhost:8080/"
        },
        "id": "JSp2SSx5GGG4",
        "outputId": "8aaed7bd-a5fc-4a8b-8b45-b9428f951621"
      },
      "outputs": [
        {
          "output_type": "stream",
          "name": "stdout",
          "text": [
            "Epoch 1/5\n",
            "133/133 [==============================] - 14254s 107s/step - loss: 0.5837 - accuracy: 0.7587 - val_loss: 8.1719 - val_accuracy: 0.6570\n",
            "Epoch 2/5\n",
            " 18/133 [===>..........................] - ETA: 3:04:49 - loss: 0.4372 - accuracy: 0.8228"
          ]
        }
      ],
      "source": [
        "total_epochs = 5  # Change this to the total number of epochs you want to train for\n",
        "#model.fit(x_train, y_train, epochs=total_epochs, validation_data=(x_test, y_test),\n",
        "          #callbacks=[checkpoint_callback])\n",
        "\n",
        "transfer_vgg19=vgg19_model.fit(training_set,validation_data=test_set,epochs=total_epochs,\n",
        "                                         validation_steps=len(test_set),steps_per_epoch=len(training_set), callbacks=[checkpoint_callback])"
      ]
    },
    {
      "cell_type": "code",
      "execution_count": null,
      "metadata": {
        "colab": {
          "base_uri": "https://localhost:8080/"
        },
        "id": "dCSupXxPoy6b",
        "outputId": "d862c428-c905-4428-d7e9-c6ed7921bc5a"
      },
      "outputs": [
        {
          "name": "stdout",
          "output_type": "stream",
          "text": [
            "No checkpoint files found. Training from scratch.\n"
          ]
        }
      ],
      "source": [
        "checkpoint_files = glob.glob('model_checkpoint_epoch_*.h5')\n",
        "\n",
        "if not checkpoint_files:\n",
        "    print(\"No checkpoint files found. Training from scratch.\")\n",
        "else:\n",
        "    # Load the latest checkpoint if available\n",
        "    latest_checkpoint = max(checkpoint_files, key=os.path.getctime)\n",
        "    vgg19_model.load_weights(latest_checkpoint)"
      ]
    },
    {
      "cell_type": "code",
      "execution_count": null,
      "metadata": {
        "id": "kWPONaNJvXBo"
      },
      "outputs": [],
      "source": [
        "transfer_vgg19.load_weights('model_checkpoint_epoch_03.h5')\n",
        "\n",
        "transfer_vgg19=vgg19_model.fit(training_set,validation_data=test_set,epochs=total_epochs, initial_epoch=10,\n",
        "                                         validation_steps=len(test_set),steps_per_epoch=len(training_set), callbacks=[checkpoint_callback])\n",
        "\n",
        "#model.fit(x_train, y_train, epochs=total_epochs, validation_data=(x_test, y_test),\n",
        "          #initial_epoch=,  # Start from epoch 5\n",
        "          #callbacks=[checkpoint_callback])"
      ]
    }
  ],
  "metadata": {
    "colab": {
      "provenance": []
    },
    "kernelspec": {
      "display_name": "Python 3",
      "name": "python3"
    },
    "language_info": {
      "name": "python"
    }
  },
  "nbformat": 4,
  "nbformat_minor": 0
}